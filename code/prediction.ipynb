{
 "cells": [
  {
   "cell_type": "code",
   "execution_count": 1,
   "metadata": {},
   "outputs": [],
   "source": [
    "# Step 1: Import Libraries and Load the Model\n",
    "import numpy as np\n",
    "import tensorflow as tf\n",
    "from tensorflow.keras.datasets import imdb\n",
    "from tensorflow.keras.preprocessing import sequence\n",
    "from tensorflow.keras.models import load_model"
   ]
  },
  {
   "cell_type": "code",
   "execution_count": 2,
   "metadata": {},
   "outputs": [],
   "source": [
    "\n",
    "# Load the IMDB dataset word index\n",
    "word_index = imdb.get_word_index()\n",
    "reverse_word_index = {value: key for key, value in word_index.items()}"
   ]
  },
  {
   "cell_type": "code",
   "execution_count": 3,
   "metadata": {},
   "outputs": [
    {
     "name": "stderr",
     "output_type": "stream",
     "text": [
      "WARNING:absl:Compiled the loaded model, but the compiled metrics have yet to be built. `model.compile_metrics` will be empty until you train or evaluate the model.\n"
     ]
    },
    {
     "data": {
      "text/html": [
       "<pre style=\"white-space:pre;overflow-x:auto;line-height:normal;font-family:Menlo,'DejaVu Sans Mono',consolas,'Courier New',monospace\"><span style=\"font-weight: bold\">Model: \"sequential\"</span>\n",
       "</pre>\n"
      ],
      "text/plain": [
       "\u001b[1mModel: \"sequential\"\u001b[0m\n"
      ]
     },
     "metadata": {},
     "output_type": "display_data"
    },
    {
     "data": {
      "text/html": [
       "<pre style=\"white-space:pre;overflow-x:auto;line-height:normal;font-family:Menlo,'DejaVu Sans Mono',consolas,'Courier New',monospace\">┏━━━━━━━━━━━━━━━━━━━━━━━━━━━━━━━━━┳━━━━━━━━━━━━━━━━━━━━━━━━┳━━━━━━━━━━━━━━━┓\n",
       "┃<span style=\"font-weight: bold\"> Layer (type)                    </span>┃<span style=\"font-weight: bold\"> Output Shape           </span>┃<span style=\"font-weight: bold\">       Param # </span>┃\n",
       "┡━━━━━━━━━━━━━━━━━━━━━━━━━━━━━━━━━╇━━━━━━━━━━━━━━━━━━━━━━━━╇━━━━━━━━━━━━━━━┩\n",
       "│ embedding (<span style=\"color: #0087ff; text-decoration-color: #0087ff\">Embedding</span>)           │ (<span style=\"color: #00af00; text-decoration-color: #00af00\">32</span>, <span style=\"color: #00af00; text-decoration-color: #00af00\">500</span>, <span style=\"color: #00af00; text-decoration-color: #00af00\">128</span>)         │     <span style=\"color: #00af00; text-decoration-color: #00af00\">1,280,000</span> │\n",
       "├─────────────────────────────────┼────────────────────────┼───────────────┤\n",
       "│ simple_rnn (<span style=\"color: #0087ff; text-decoration-color: #0087ff\">SimpleRNN</span>)          │ (<span style=\"color: #00af00; text-decoration-color: #00af00\">32</span>, <span style=\"color: #00af00; text-decoration-color: #00af00\">128</span>)              │        <span style=\"color: #00af00; text-decoration-color: #00af00\">32,896</span> │\n",
       "├─────────────────────────────────┼────────────────────────┼───────────────┤\n",
       "│ dense (<span style=\"color: #0087ff; text-decoration-color: #0087ff\">Dense</span>)                   │ (<span style=\"color: #00af00; text-decoration-color: #00af00\">32</span>, <span style=\"color: #00af00; text-decoration-color: #00af00\">1</span>)                │           <span style=\"color: #00af00; text-decoration-color: #00af00\">129</span> │\n",
       "└─────────────────────────────────┴────────────────────────┴───────────────┘\n",
       "</pre>\n"
      ],
      "text/plain": [
       "┏━━━━━━━━━━━━━━━━━━━━━━━━━━━━━━━━━┳━━━━━━━━━━━━━━━━━━━━━━━━┳━━━━━━━━━━━━━━━┓\n",
       "┃\u001b[1m \u001b[0m\u001b[1mLayer (type)                   \u001b[0m\u001b[1m \u001b[0m┃\u001b[1m \u001b[0m\u001b[1mOutput Shape          \u001b[0m\u001b[1m \u001b[0m┃\u001b[1m \u001b[0m\u001b[1m      Param #\u001b[0m\u001b[1m \u001b[0m┃\n",
       "┡━━━━━━━━━━━━━━━━━━━━━━━━━━━━━━━━━╇━━━━━━━━━━━━━━━━━━━━━━━━╇━━━━━━━━━━━━━━━┩\n",
       "│ embedding (\u001b[38;5;33mEmbedding\u001b[0m)           │ (\u001b[38;5;34m32\u001b[0m, \u001b[38;5;34m500\u001b[0m, \u001b[38;5;34m128\u001b[0m)         │     \u001b[38;5;34m1,280,000\u001b[0m │\n",
       "├─────────────────────────────────┼────────────────────────┼───────────────┤\n",
       "│ simple_rnn (\u001b[38;5;33mSimpleRNN\u001b[0m)          │ (\u001b[38;5;34m32\u001b[0m, \u001b[38;5;34m128\u001b[0m)              │        \u001b[38;5;34m32,896\u001b[0m │\n",
       "├─────────────────────────────────┼────────────────────────┼───────────────┤\n",
       "│ dense (\u001b[38;5;33mDense\u001b[0m)                   │ (\u001b[38;5;34m32\u001b[0m, \u001b[38;5;34m1\u001b[0m)                │           \u001b[38;5;34m129\u001b[0m │\n",
       "└─────────────────────────────────┴────────────────────────┴───────────────┘\n"
      ]
     },
     "metadata": {},
     "output_type": "display_data"
    },
    {
     "data": {
      "text/html": [
       "<pre style=\"white-space:pre;overflow-x:auto;line-height:normal;font-family:Menlo,'DejaVu Sans Mono',consolas,'Courier New',monospace\"><span style=\"font-weight: bold\"> Total params: </span><span style=\"color: #00af00; text-decoration-color: #00af00\">1,313,027</span> (5.01 MB)\n",
       "</pre>\n"
      ],
      "text/plain": [
       "\u001b[1m Total params: \u001b[0m\u001b[38;5;34m1,313,027\u001b[0m (5.01 MB)\n"
      ]
     },
     "metadata": {},
     "output_type": "display_data"
    },
    {
     "data": {
      "text/html": [
       "<pre style=\"white-space:pre;overflow-x:auto;line-height:normal;font-family:Menlo,'DejaVu Sans Mono',consolas,'Courier New',monospace\"><span style=\"font-weight: bold\"> Trainable params: </span><span style=\"color: #00af00; text-decoration-color: #00af00\">1,313,025</span> (5.01 MB)\n",
       "</pre>\n"
      ],
      "text/plain": [
       "\u001b[1m Trainable params: \u001b[0m\u001b[38;5;34m1,313,025\u001b[0m (5.01 MB)\n"
      ]
     },
     "metadata": {},
     "output_type": "display_data"
    },
    {
     "data": {
      "text/html": [
       "<pre style=\"white-space:pre;overflow-x:auto;line-height:normal;font-family:Menlo,'DejaVu Sans Mono',consolas,'Courier New',monospace\"><span style=\"font-weight: bold\"> Non-trainable params: </span><span style=\"color: #00af00; text-decoration-color: #00af00\">0</span> (0.00 B)\n",
       "</pre>\n"
      ],
      "text/plain": [
       "\u001b[1m Non-trainable params: \u001b[0m\u001b[38;5;34m0\u001b[0m (0.00 B)\n"
      ]
     },
     "metadata": {},
     "output_type": "display_data"
    },
    {
     "data": {
      "text/html": [
       "<pre style=\"white-space:pre;overflow-x:auto;line-height:normal;font-family:Menlo,'DejaVu Sans Mono',consolas,'Courier New',monospace\"><span style=\"font-weight: bold\"> Optimizer params: </span><span style=\"color: #00af00; text-decoration-color: #00af00\">2</span> (12.00 B)\n",
       "</pre>\n"
      ],
      "text/plain": [
       "\u001b[1m Optimizer params: \u001b[0m\u001b[38;5;34m2\u001b[0m (12.00 B)\n"
      ]
     },
     "metadata": {},
     "output_type": "display_data"
    }
   ],
   "source": [
    "# Load the pre-trained model with ReLU activation\n",
    "model = load_model('simple_rnn_imdb.h5')\n",
    "model.summary()"
   ]
  },
  {
   "cell_type": "code",
   "execution_count": 4,
   "metadata": {},
   "outputs": [
    {
     "data": {
      "text/plain": [
       "[array([[ 0.5970007 , -0.5417689 ,  0.49229792, ...,  0.5781691 ,\n",
       "          0.57210666, -0.45130077],\n",
       "        [ 0.02608171,  0.02844203,  0.03614829, ...,  0.01873484,\n",
       "         -0.00617944,  0.00196853],\n",
       "        [ 0.19239683, -0.13391443,  0.08909121, ...,  0.0759465 ,\n",
       "          0.16266151, -0.11508734],\n",
       "        ...,\n",
       "        [-0.0021632 , -0.01374379,  0.00206685, ...,  0.0258217 ,\n",
       "         -0.03801876,  0.0716475 ],\n",
       "        [ 0.01008327, -0.02890356,  0.02444189, ...,  0.01916302,\n",
       "         -0.04167172, -0.00402553],\n",
       "        [-0.03336496, -0.01612894, -0.07507085, ..., -0.06954981,\n",
       "         -0.07201712, -0.05676122]], dtype=float32),\n",
       " array([[-0.01244656, -0.09640116,  0.01114456, ..., -0.15496808,\n",
       "          0.11507004, -0.13065034],\n",
       "        [-0.00582811, -0.13004817,  0.06593229, ...,  0.00780985,\n",
       "         -0.01912744, -0.06812342],\n",
       "        [-0.0451973 ,  0.0692772 ,  0.04249488, ..., -0.11564837,\n",
       "         -0.00795761,  0.0148934 ],\n",
       "        ...,\n",
       "        [ 0.10549004,  0.12180229, -0.16300857, ..., -0.03698063,\n",
       "         -0.14603223,  0.00675669],\n",
       "        [-0.04018256,  0.08434408, -0.068175  , ...,  0.02928118,\n",
       "         -0.19156955, -0.09128833],\n",
       "        [ 0.03754289, -0.11366895,  0.17060404, ...,  0.05427574,\n",
       "          0.07765061,  0.04358863]], dtype=float32),\n",
       " array([[-0.18540895, -0.03904086,  0.10658655, ...,  0.0932491 ,\n",
       "          0.13816153,  0.08287328],\n",
       "        [-0.02976329, -0.05394354,  0.01107569, ..., -0.03845377,\n",
       "         -0.11525657, -0.04630965],\n",
       "        [-0.00162749,  0.13395138, -0.00973306, ...,  0.18509525,\n",
       "         -0.12541036,  0.18333818],\n",
       "        ...,\n",
       "        [ 0.09637488, -0.07180495,  0.07483105, ...,  0.04229432,\n",
       "         -0.0026487 ,  0.12194876],\n",
       "        [ 0.05365616,  0.02065139, -0.05930812, ...,  0.08552513,\n",
       "         -0.07430377, -0.06360556],\n",
       "        [-0.01780096,  0.08318677, -0.04560001, ..., -0.03826063,\n",
       "          0.16590592,  0.10835683]], dtype=float32),\n",
       " array([-2.18796209e-02, -3.18736956e-02, -2.92363968e-02, -1.84677038e-02,\n",
       "        -3.44303763e-03,  1.16633475e-02,  3.70398313e-02,  3.45387384e-02,\n",
       "         2.64436025e-02, -1.36138517e-02, -1.00136101e-02,  8.86981003e-03,\n",
       "        -2.08360981e-02,  2.64870189e-02, -1.16625708e-02,  3.23799513e-02,\n",
       "        -1.96072441e-02,  1.20314164e-02, -7.81643856e-03,  4.77202004e-03,\n",
       "        -2.16531996e-02, -1.29942065e-02,  4.48238570e-03, -1.27263519e-03,\n",
       "         3.67967226e-02, -1.64349210e-02, -2.09991205e-02, -2.91767325e-02,\n",
       "         8.86155479e-03,  1.32096597e-04, -5.93656395e-03, -6.90426445e-03,\n",
       "         9.80290305e-03,  1.84463970e-02,  2.01830417e-02,  2.37815771e-02,\n",
       "        -5.43212844e-03, -1.10820308e-02,  7.87628349e-03, -1.13008693e-02,\n",
       "         7.56556308e-03, -1.64901614e-02, -1.30162574e-02, -2.42584497e-02,\n",
       "         7.69009395e-03, -1.59053188e-02,  3.29083614e-02, -2.55579054e-02,\n",
       "         1.08753573e-02, -1.09312842e-02, -9.51598864e-04,  1.19752074e-02,\n",
       "         7.88110867e-03,  1.48607860e-03,  8.16590898e-03, -3.29837538e-02,\n",
       "        -3.22543308e-02,  6.81235548e-03, -1.76010411e-02, -2.32085101e-02,\n",
       "        -2.94803567e-02, -5.79020707e-03, -1.25055271e-03,  7.45484745e-03,\n",
       "         1.05548063e-02,  3.51882055e-02, -2.65643690e-02, -2.64531616e-02,\n",
       "        -2.97640506e-02,  1.14873648e-02,  1.58831310e-02,  1.05187157e-03,\n",
       "        -1.90560073e-02, -1.11052468e-02, -2.23809425e-02, -5.66200120e-03,\n",
       "         1.32967124e-03,  2.91303676e-02, -2.71341763e-02, -2.21028905e-02,\n",
       "         1.68831330e-02, -9.23477393e-03, -1.69247258e-02, -1.46274855e-02,\n",
       "        -2.49514673e-02,  7.81129673e-03, -4.51656012e-03, -1.64795294e-02,\n",
       "        -4.72823903e-02, -3.18818949e-02,  2.05597710e-02,  9.78694763e-03,\n",
       "         1.15384143e-02, -4.63043638e-02, -4.47181612e-02,  1.81539003e-02,\n",
       "        -1.94917955e-02, -3.45822118e-05, -7.56533397e-03, -9.40743834e-03,\n",
       "        -1.00251827e-02,  1.56986434e-02, -2.18307637e-02, -2.87874858e-03,\n",
       "         4.69727665e-02,  3.47488336e-02, -2.74439864e-02, -1.05478782e-02,\n",
       "        -2.52615605e-02, -2.11491827e-02, -2.60888301e-02, -2.66700964e-02,\n",
       "        -1.77369881e-02,  6.87324479e-02,  1.91512164e-02,  3.11844726e-03,\n",
       "        -1.10281985e-02,  4.42941254e-03, -3.52379493e-02, -1.85453836e-02,\n",
       "         7.61438627e-04, -5.93634136e-03, -3.03614698e-03, -2.42390819e-02,\n",
       "        -2.29000300e-02,  1.55049330e-02,  1.55908549e-02,  3.26588824e-02],\n",
       "       dtype=float32),\n",
       " array([[-0.09128574],\n",
       "        [-0.1247196 ],\n",
       "        [-0.01319198],\n",
       "        [-0.11940318],\n",
       "        [ 0.11671215],\n",
       "        [-0.11457905],\n",
       "        [ 0.31326237],\n",
       "        [ 0.21245597],\n",
       "        [ 0.07992964],\n",
       "        [-0.22668216],\n",
       "        [-0.18905343],\n",
       "        [-0.08339309],\n",
       "        [ 0.01172662],\n",
       "        [ 0.13463002],\n",
       "        [-0.20924523],\n",
       "        [ 0.11400619],\n",
       "        [ 0.05270628],\n",
       "        [ 0.01913526],\n",
       "        [ 0.05094099],\n",
       "        [-0.24534222],\n",
       "        [-0.17008193],\n",
       "        [ 0.21478201],\n",
       "        [ 0.1493706 ],\n",
       "        [-0.06737857],\n",
       "        [-0.20046383],\n",
       "        [-0.13538422],\n",
       "        [-0.12990306],\n",
       "        [-0.09141605],\n",
       "        [-0.23151927],\n",
       "        [ 0.03172689],\n",
       "        [-0.09783173],\n",
       "        [-0.01383417],\n",
       "        [ 0.32737884],\n",
       "        [ 0.09830115],\n",
       "        [ 0.18828505],\n",
       "        [ 0.2408886 ],\n",
       "        [-0.00554439],\n",
       "        [ 0.12216511],\n",
       "        [-0.0059947 ],\n",
       "        [-0.03598556],\n",
       "        [ 0.1983647 ],\n",
       "        [-0.47359446],\n",
       "        [ 0.17670569],\n",
       "        [ 0.01454682],\n",
       "        [ 0.0481774 ],\n",
       "        [-0.08569336],\n",
       "        [ 0.2423238 ],\n",
       "        [-0.09076191],\n",
       "        [-0.2547504 ],\n",
       "        [-0.1566085 ],\n",
       "        [-0.08256245],\n",
       "        [ 0.17686805],\n",
       "        [ 0.00431502],\n",
       "        [-0.11243814],\n",
       "        [-0.13609281],\n",
       "        [ 0.10132674],\n",
       "        [-0.15132585],\n",
       "        [-0.17634574],\n",
       "        [-0.18363006],\n",
       "        [-0.15773515],\n",
       "        [-0.13625759],\n",
       "        [-0.05098826],\n",
       "        [ 0.01536779],\n",
       "        [-0.21421647],\n",
       "        [-0.13129868],\n",
       "        [ 0.2263052 ],\n",
       "        [ 0.26226458],\n",
       "        [ 0.07867432],\n",
       "        [-0.11127984],\n",
       "        [ 0.3161669 ],\n",
       "        [ 0.10890618],\n",
       "        [ 0.19004071],\n",
       "        [-0.21235128],\n",
       "        [-0.0235147 ],\n",
       "        [-0.1046999 ],\n",
       "        [ 0.2790713 ],\n",
       "        [-0.08273732],\n",
       "        [ 0.18099128],\n",
       "        [-0.1849762 ],\n",
       "        [ 0.5180235 ],\n",
       "        [ 0.30439755],\n",
       "        [-0.07368362],\n",
       "        [-0.19264278],\n",
       "        [-0.05437788],\n",
       "        [ 0.2371078 ],\n",
       "        [-0.07711449],\n",
       "        [-0.19059856],\n",
       "        [-0.04390884],\n",
       "        [-0.10516928],\n",
       "        [-0.16957223],\n",
       "        [ 0.2969742 ],\n",
       "        [ 0.08364261],\n",
       "        [-0.23554292],\n",
       "        [ 0.21031585],\n",
       "        [-0.01736804],\n",
       "        [-0.00912296],\n",
       "        [-0.29226014],\n",
       "        [ 0.14063197],\n",
       "        [-0.53973204],\n",
       "        [ 0.31185684],\n",
       "        [-0.20195346],\n",
       "        [ 0.28438705],\n",
       "        [-0.01476203],\n",
       "        [-0.40831128],\n",
       "        [-0.04993055],\n",
       "        [ 0.07135951],\n",
       "        [-0.23787843],\n",
       "        [-0.19293523],\n",
       "        [-0.19009879],\n",
       "        [ 0.4694952 ],\n",
       "        [-0.0826908 ],\n",
       "        [-0.17154564],\n",
       "        [-0.0281561 ],\n",
       "        [-0.42237163],\n",
       "        [ 0.13594216],\n",
       "        [ 0.0037799 ],\n",
       "        [-0.00314806],\n",
       "        [ 0.54409283],\n",
       "        [ 0.05646969],\n",
       "        [-0.2198986 ],\n",
       "        [-0.08769538],\n",
       "        [-0.18863949],\n",
       "        [-0.07150771],\n",
       "        [ 0.01113847],\n",
       "        [ 0.02588425],\n",
       "        [ 0.35136107],\n",
       "        [ 0.3313897 ],\n",
       "        [ 0.05510102]], dtype=float32),\n",
       " array([-0.23920856], dtype=float32)]"
      ]
     },
     "execution_count": 4,
     "metadata": {},
     "output_type": "execute_result"
    }
   ],
   "source": [
    "model.get_weights()"
   ]
  },
  {
   "cell_type": "code",
   "execution_count": 5,
   "metadata": {},
   "outputs": [],
   "source": [
    "# Step 2: Helper Functions\n",
    "# Function to decode reviews\n",
    "def decode_review(encoded_review):\n",
    "    return ' '.join([reverse_word_index.get(i - 3, '?') for i in encoded_review])\n",
    "\n",
    "# Function to preprocess user input\n",
    "def preprocess_text(text):\n",
    "    words = text.lower().split()\n",
    "    encoded_review = [word_index.get(word, 2) + 3 for word in words]\n",
    "    padded_review = sequence.pad_sequences([encoded_review], maxlen=500)\n",
    "    return padded_review"
   ]
  },
  {
   "cell_type": "code",
   "execution_count": 6,
   "metadata": {},
   "outputs": [],
   "source": [
    "### Prediction  function\n",
    "\n",
    "def predict_sentiment(review):\n",
    "    preprocessed_input=preprocess_text(review)\n",
    "\n",
    "    prediction=model.predict(preprocessed_input)\n",
    "\n",
    "    sentiment = 'Positive' if prediction[0][0] > 0.5 else 'Negative'\n",
    "    \n",
    "    return sentiment, prediction[0][0]\n",
    "\n"
   ]
  },
  {
   "cell_type": "code",
   "execution_count": 7,
   "metadata": {},
   "outputs": [
    {
     "name": "stdout",
     "output_type": "stream",
     "text": [
      "\u001b[1m1/1\u001b[0m \u001b[32m━━━━━━━━━━━━━━━━━━━━\u001b[0m\u001b[37m\u001b[0m \u001b[1m0s\u001b[0m 260ms/step\n",
      "Review: This movie was fantastic! The acting was great and the plot was thrilling.\n",
      "Sentiment: Positive\n",
      "Prediction Score: 0.9501199126243591\n"
     ]
    }
   ],
   "source": [
    "# Step 4: User Input and Prediction\n",
    "# Example review for prediction\n",
    "example_review = \"This movie was fantastic! The acting was great and the plot was thrilling.\"\n",
    "\n",
    "sentiment,score=predict_sentiment(example_review)\n",
    "\n",
    "print(f'Review: {example_review}')\n",
    "print(f'Sentiment: {sentiment}')\n",
    "print(f'Prediction Score: {score}')"
   ]
  },
  {
   "cell_type": "code",
   "execution_count": null,
   "metadata": {},
   "outputs": [],
   "source": []
  },
  {
   "cell_type": "code",
   "execution_count": null,
   "metadata": {},
   "outputs": [],
   "source": []
  },
  {
   "cell_type": "code",
   "execution_count": null,
   "metadata": {},
   "outputs": [],
   "source": []
  },
  {
   "cell_type": "code",
   "execution_count": null,
   "metadata": {},
   "outputs": [],
   "source": []
  }
 ],
 "metadata": {
  "kernelspec": {
   "display_name": "Python 3",
   "language": "python",
   "name": "python3"
  },
  "language_info": {
   "codemirror_mode": {
    "name": "ipython",
    "version": 3
   },
   "file_extension": ".py",
   "mimetype": "text/x-python",
   "name": "python",
   "nbconvert_exporter": "python",
   "pygments_lexer": "ipython3",
   "version": "3.10.0"
  }
 },
 "nbformat": 4,
 "nbformat_minor": 2
}
